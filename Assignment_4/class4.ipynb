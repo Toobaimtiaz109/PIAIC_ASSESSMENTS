{
 "cells": [
  {
   "cell_type": "code",
   "execution_count": 1,
   "metadata": {},
   "outputs": [
    {
     "name": "stdout",
     "output_type": "stream",
     "text": [
      "Ayesha\n",
      "Rishmail\n",
      "Zainab\n"
     ]
    }
   ],
   "source": [
    "#Question-1\n",
    "#Names\n",
    "names:str = [\"Ayesha\" , \"Rishmail\" , \"Zainab\"]\n",
    "for name in names:\n",
    "    print(name)"
   ]
  },
  {
   "cell_type": "code",
   "execution_count": 2,
   "metadata": {},
   "outputs": [
    {
     "name": "stdout",
     "output_type": "stream",
     "text": [
      "Hello!Ayesha,would you like to learn some python today?\n",
      "Hello!Rishmail,would you like to learn some python today?\n",
      "Hello!Zainab,would you like to learn some python today?\n"
     ]
    }
   ],
   "source": [
    "#Question-2\n",
    "#Greetings\n",
    "for name in names:\n",
    "    print(f\"Hello!{name},would you like to learn some python today?\")"
   ]
  },
  {
   "cell_type": "code",
   "execution_count": 3,
   "metadata": {},
   "outputs": [
    {
     "name": "stdout",
     "output_type": "stream",
     "text": [
      "I would like to own a Alsvin.\n",
      "I would like to own a Honda.\n",
      "I would like to own a Audi.\n",
      "I would like to own a Supra.\n"
     ]
    }
   ],
   "source": [
    "#Question-3\n",
    "#Your Own list\n",
    "favourite_transport:str = [\"Alsvin\" , \"Honda\" , \"Audi\" , \"Supra\"]\n",
    "for vehicle in favourite_transport:\n",
    "    print(f\"I would like to own a {vehicle}.\")"
   ]
  },
  {
   "cell_type": "code",
   "execution_count": 4,
   "metadata": {},
   "outputs": [
    {
     "name": "stdout",
     "output_type": "stream",
     "text": [
      "Dear Ayesha, I would like to invite you to dinner.\n",
      "Dear Rishmail, I would like to invite you to dinner.\n",
      "Dear Zainab, I would like to invite you to dinner.\n"
     ]
    }
   ],
   "source": [
    "#Question-4\n",
    "#Guest list\n",
    "guests = [\"Ayesha\" , \"Rishmail\" , \"Zainab\"]\n",
    "for guest in guests:\n",
    "    print(f\"Dear {guest}, I would like to invite you to dinner.\")"
   ]
  },
  {
   "cell_type": "code",
   "execution_count": 6,
   "metadata": {},
   "outputs": [
    {
     "name": "stdout",
     "output_type": "stream",
     "text": [
      "Unfortunately,Z can't make it to the dinner.\n",
      "Dear Adan,I would like to invite you to dinner.\n",
      "Dear Rishmail,I would like to invite you to dinner.\n",
      "Dear Zainab,I would like to invite you to dinner.\n"
     ]
    }
   ],
   "source": [
    "#Question-5\n",
    "#Changing Guests list\n",
    "print(f\"Unfortunately,{guest[0]} can't make it to the dinner.\")\n",
    "guests[0] = \"Adan\"\n",
    "for guest in guests:\n",
    "    print(f\"Dear {guest},I would like to invite you to dinner.\")"
   ]
  },
  {
   "cell_type": "code",
   "execution_count": 7,
   "metadata": {},
   "outputs": [
    {
     "name": "stdout",
     "output_type": "stream",
     "text": [
      "Hey! We found a bigger table, let me invite more friends.\n",
      "Dear Ali,I would like to invite you to dinner.\n",
      "Dear Adan,I would like to invite you to dinner.\n",
      "Dear Haider,I would like to invite you to dinner.\n",
      "Dear Rishmail,I would like to invite you to dinner.\n",
      "Dear Zainab,I would like to invite you to dinner.\n",
      "Dear Azlan,I would like to invite you to dinner.\n"
     ]
    }
   ],
   "source": [
    "#Question-6\n",
    "#More Guests\n",
    "print(\"Hey! We found a bigger table, let me invite more friends.\")\n",
    "guests.insert(0, \"Ali\")\n",
    "guests.insert(2, \"Haider\")\n",
    "guests.append(\"Azlan\")\n",
    "for guest in guests:\n",
    "    print(f\"Dear {guest},I would like to invite you to dinner.\")"
   ]
  },
  {
   "cell_type": "code",
   "execution_count": 8,
   "metadata": {},
   "outputs": [
    {
     "name": "stdout",
     "output_type": "stream",
     "text": [
      "Oops! I can invite only two people to the dinner.\n",
      "Sorry Azlan, I can't invite you to dinner.\n",
      "Sorry Zainab, I can't invite you to dinner.\n",
      "Sorry Rishmail, I can't invite you to dinner.\n",
      "Sorry Haider, I can't invite you to dinner.\n"
     ]
    }
   ],
   "source": [
    "#Question-7\n",
    "#Shrinking Guests List\n",
    "print(\"Oops! I can invite only two people to the dinner.\")\n",
    "while len(guests) > 2:\n",
    "    removed_guest = guests.pop()  # Remove the last guest from the list\n",
    "    print(f\"Sorry {removed_guest}, I can't invite you to dinner.\")"
   ]
  },
  {
   "cell_type": "code",
   "execution_count": 9,
   "metadata": {},
   "outputs": [
    {
     "name": "stdout",
     "output_type": "stream",
     "text": [
      "Ali, You are still invited to the dinner.\n",
      "Adan, You are still invited to the dinner.\n"
     ]
    }
   ],
   "source": [
    "for guest in guests:\n",
    "    print(f\"{guest}, You are still invited to the dinner.\")"
   ]
  },
  {
   "cell_type": "code",
   "execution_count": 10,
   "metadata": {},
   "outputs": [
    {
     "name": "stdout",
     "output_type": "stream",
     "text": [
      "[]\n"
     ]
    }
   ],
   "source": [
    "del guests[:]      # The slice notation [:] indicates that all elements in the list should be deleted.\n",
    "print(guests)"
   ]
  },
  {
   "cell_type": "code",
   "execution_count": 11,
   "metadata": {},
   "outputs": [
    {
     "name": "stdout",
     "output_type": "stream",
     "text": [
      "Original List:\n",
      " ['Paris', 'Indonesia', 'Germany', 'Turkey', 'Korea']\n"
     ]
    }
   ],
   "source": [
    "#Question-8\n",
    "#Seeing the World\n",
    "location:str = [\"Paris\" , \"Indonesia\" , \"Germany\" , \"Turkey\" , \"Korea\"]\n",
    "print(\"Original List:\\n\",location)"
   ]
  },
  {
   "cell_type": "code",
   "execution_count": 12,
   "metadata": {},
   "outputs": [
    {
     "name": "stdout",
     "output_type": "stream",
     "text": [
      "Sorted list:\n",
      " ['Germany', 'Indonesia', 'Korea', 'Paris', 'Turkey']\n"
     ]
    }
   ],
   "source": [
    "print(\"Sorted list:\\n\" , sorted(location))"
   ]
  },
  {
   "cell_type": "code",
   "execution_count": 13,
   "metadata": {},
   "outputs": [
    {
     "name": "stdout",
     "output_type": "stream",
     "text": [
      "Original list after sorting:\n",
      " ['Paris', 'Indonesia', 'Germany', 'Turkey', 'Korea']\n"
     ]
    }
   ],
   "source": [
    "print(\"Original list after sorting:\\n\",location)"
   ]
  },
  {
   "cell_type": "code",
   "execution_count": 14,
   "metadata": {},
   "outputs": [
    {
     "name": "stdout",
     "output_type": "stream",
     "text": [
      "Sorted list after reversing:\n",
      " ['Turkey', 'Paris', 'Korea', 'Indonesia', 'Germany']\n"
     ]
    }
   ],
   "source": [
    "print(\"Sorted list after reversing:\\n\" , sorted(location,reverse=\"True\"))"
   ]
  },
  {
   "cell_type": "code",
   "execution_count": 15,
   "metadata": {},
   "outputs": [
    {
     "name": "stdout",
     "output_type": "stream",
     "text": [
      "Original list after reverse sorting:\n",
      " ['Paris', 'Indonesia', 'Germany', 'Turkey', 'Korea']\n"
     ]
    }
   ],
   "source": [
    "print(\"Original list after reverse sorting:\\n\",location)"
   ]
  },
  {
   "cell_type": "code",
   "execution_count": 16,
   "metadata": {},
   "outputs": [
    {
     "name": "stdout",
     "output_type": "stream",
     "text": [
      "Reversed list:\n",
      "['Korea', 'Turkey', 'Germany', 'Indonesia', 'Paris']\n"
     ]
    }
   ],
   "source": [
    "print(\"Reversed list:\")\n",
    "location.reverse()\n",
    "print(location)"
   ]
  },
  {
   "cell_type": "code",
   "execution_count": 17,
   "metadata": {},
   "outputs": [
    {
     "name": "stdout",
     "output_type": "stream",
     "text": [
      "Again Reversed list:\n",
      "['Paris', 'Indonesia', 'Germany', 'Turkey', 'Korea']\n"
     ]
    }
   ],
   "source": [
    "print(\"Again Reversed list:\")\n",
    "location.reverse()\n",
    "print(location)"
   ]
  },
  {
   "cell_type": "code",
   "execution_count": 18,
   "metadata": {},
   "outputs": [
    {
     "name": "stdout",
     "output_type": "stream",
     "text": [
      "Original list after reverse: ['Paris', 'Indonesia', 'Germany', 'Turkey', 'Korea']\n"
     ]
    }
   ],
   "source": [
    "print(\"Original list after reverse:\", location)"
   ]
  },
  {
   "cell_type": "code",
   "execution_count": 19,
   "metadata": {},
   "outputs": [
    {
     "name": "stdout",
     "output_type": "stream",
     "text": [
      "List sorted in Alphabetical order:\n",
      " ['Germany', 'Indonesia', 'Korea', 'Paris', 'Turkey']\n"
     ]
    }
   ],
   "source": [
    "print(\"List sorted in Alphabetical order:\\n\" , sorted(location))"
   ]
  },
  {
   "cell_type": "code",
   "execution_count": 20,
   "metadata": {},
   "outputs": [
    {
     "name": "stdout",
     "output_type": "stream",
     "text": [
      "List sorted in reverse-alphabetical order:\n",
      " ['Turkey', 'Paris', 'Korea', 'Indonesia', 'Germany']\n"
     ]
    }
   ],
   "source": [
    "print(\"List sorted in reverse-alphabetical order:\\n\", sorted(location,reverse=\"True\"))"
   ]
  },
  {
   "cell_type": "code",
   "execution_count": 21,
   "metadata": {},
   "outputs": [
    {
     "name": "stdout",
     "output_type": "stream",
     "text": [
      "['Apple', 'Mango', 'Strawberry', 'Cherry', 'Kiwi']\n"
     ]
    }
   ],
   "source": [
    "#Question-9\n",
    "#Every Function\n",
    "fruits:str = [\"Apple\" , \"Mango\" , \"Strawberry\" , \"Cherry\" , \"Kiwi\"]\n",
    "print(fruits)"
   ]
  },
  {
   "cell_type": "code",
   "execution_count": 22,
   "metadata": {},
   "outputs": [
    {
     "data": {
      "text/plain": [
       "5"
      ]
     },
     "execution_count": 22,
     "metadata": {},
     "output_type": "execute_result"
    }
   ],
   "source": [
    "#Bulit-in Functions\n",
    "len(fruits)"
   ]
  },
  {
   "cell_type": "code",
   "execution_count": 23,
   "metadata": {},
   "outputs": [
    {
     "data": {
      "text/plain": [
       "'Apple'"
      ]
     },
     "execution_count": 23,
     "metadata": {},
     "output_type": "execute_result"
    }
   ],
   "source": [
    "min(fruits)"
   ]
  },
  {
   "cell_type": "code",
   "execution_count": 24,
   "metadata": {},
   "outputs": [
    {
     "data": {
      "text/plain": [
       "'Strawberry'"
      ]
     },
     "execution_count": 24,
     "metadata": {},
     "output_type": "execute_result"
    }
   ],
   "source": [
    "max(fruits)"
   ]
  },
  {
   "cell_type": "code",
   "execution_count": 25,
   "metadata": {},
   "outputs": [
    {
     "data": {
      "text/plain": [
       "['Apple', 'Cherry', 'Kiwi', 'Mango', 'Strawberry']"
      ]
     },
     "execution_count": 25,
     "metadata": {},
     "output_type": "execute_result"
    }
   ],
   "source": [
    "sorted(fruits)"
   ]
  },
  {
   "cell_type": "code",
   "execution_count": 26,
   "metadata": {},
   "outputs": [
    {
     "name": "stdout",
     "output_type": "stream",
     "text": [
      "['Apple', 'Mango', 'Strawberry', 'Cherry', 'Kiwi', 'Dates']\n"
     ]
    }
   ],
   "source": [
    "#List Functions\n",
    "fruits.append(\"Dates\")\n",
    "print(fruits)"
   ]
  },
  {
   "cell_type": "code",
   "execution_count": 27,
   "metadata": {},
   "outputs": [
    {
     "name": "stdout",
     "output_type": "stream",
     "text": [
      "['Apple', 'Mango', 'Strawberry', 'Cherry', 'Kiwi', 'Melon', 'Pineapple']\n"
     ]
    }
   ],
   "source": [
    "fruits:str = [\"Apple\" , \"Mango\" , \"Strawberry\" , \"Cherry\" , \"Kiwi\"]\n",
    "more_fruits:str = [\"Melon\" , \"Pineapple\"]\n",
    "fruits.extend(more_fruits)\n",
    "print(fruits)"
   ]
  },
  {
   "cell_type": "code",
   "execution_count": 28,
   "metadata": {},
   "outputs": [
    {
     "name": "stdout",
     "output_type": "stream",
     "text": [
      "['Apple', 'Mango', 'Strawberry', 'Cherry', 'Grapes', 'Kiwi', 'Melon', 'Pineapple']\n"
     ]
    }
   ],
   "source": [
    "fruits.insert(4 , \"Grapes\")\n",
    "print(fruits)"
   ]
  },
  {
   "cell_type": "code",
   "execution_count": 29,
   "metadata": {},
   "outputs": [
    {
     "name": "stdout",
     "output_type": "stream",
     "text": [
      "['Apple', 'Mango', 'Strawberry', 'Cherry', 'Grapes', 'Kiwi', 'Pineapple']\n"
     ]
    }
   ],
   "source": [
    "fruits.remove(\"Melon\")\n",
    "print(fruits)"
   ]
  },
  {
   "cell_type": "code",
   "execution_count": 30,
   "metadata": {},
   "outputs": [
    {
     "name": "stdout",
     "output_type": "stream",
     "text": [
      "['Apple', 'Mango', 'Cherry', 'Grapes', 'Kiwi', 'Pineapple']\n"
     ]
    }
   ],
   "source": [
    "fruits.pop(2)\n",
    "print(fruits)"
   ]
  },
  {
   "cell_type": "code",
   "execution_count": 31,
   "metadata": {},
   "outputs": [
    {
     "name": "stdout",
     "output_type": "stream",
     "text": [
      "['Apple', 'Mango', 'Cherry', 'Grapes', 'Pineapple']\n"
     ]
    }
   ],
   "source": [
    "fruits.remove(\"Kiwi\")\n",
    "print(fruits)"
   ]
  },
  {
   "cell_type": "code",
   "execution_count": 32,
   "metadata": {},
   "outputs": [
    {
     "name": "stdout",
     "output_type": "stream",
     "text": [
      "[]\n"
     ]
    }
   ],
   "source": [
    "fruits.clear()\n",
    "print(fruits)"
   ]
  },
  {
   "cell_type": "code",
   "execution_count": 33,
   "metadata": {},
   "outputs": [],
   "source": [
    "#Question-10\n",
    "#International Error\n",
    "#print(\"International Error:\" , fruits[10])"
   ]
  }
 ],
 "metadata": {
  "kernelspec": {
   "display_name": "Python 3",
   "language": "python",
   "name": "python3"
  },
  "language_info": {
   "codemirror_mode": {
    "name": "ipython",
    "version": 3
   },
   "file_extension": ".py",
   "mimetype": "text/x-python",
   "name": "python",
   "nbconvert_exporter": "python",
   "pygments_lexer": "ipython3",
   "version": "3.12.4"
  }
 },
 "nbformat": 4,
 "nbformat_minor": 2
}
